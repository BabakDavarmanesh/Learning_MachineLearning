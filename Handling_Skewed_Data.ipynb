{
  "nbformat": 4,
  "nbformat_minor": 0,
  "metadata": {
    "colab": {
      "provenance": [],
      "authorship_tag": "ABX9TyMAZ6tPt44+YpPHmfSvG8jH",
      "include_colab_link": true
    },
    "kernelspec": {
      "name": "python3",
      "display_name": "Python 3"
    },
    "language_info": {
      "name": "python"
    }
  },
  "cells": [
    {
      "cell_type": "markdown",
      "metadata": {
        "id": "view-in-github",
        "colab_type": "text"
      },
      "source": [
        "<a href=\"https://colab.research.google.com/github/BabakDavarmanesh/Learning_MachineLearning/blob/main/Handling_Skewed_Data.ipynb\" target=\"_parent\"><img src=\"https://colab.research.google.com/assets/colab-badge.svg\" alt=\"Open In Colab\"/></a>"
      ]
    },
    {
      "cell_type": "markdown",
      "source": [
        "# 📘 **<font color=\"darkblue\">Guide: Handling Skewed Data</font>**\n",
        "\n",
        "Author: Babak Davarmanesh\n",
        "\n",
        "\n",
        "---\n",
        "\n",
        "Skewed data can impact model performance, especially for algorithms assuming normality (like linear regression, logistic regression, etc.). This guide covers:\n",
        "\n",
        "✅ Visualizing skew\n",
        "\n",
        "✅ Applying transformations (Log, Square Root, Box-Cox, Yeo-Johnson)\n",
        "\n",
        "✅ What to do with negative values\n",
        "\n",
        "✅ Whether to normalize before or after"
      ],
      "metadata": {
        "id": "buXohAy0nhkt"
      }
    }
  ]
}