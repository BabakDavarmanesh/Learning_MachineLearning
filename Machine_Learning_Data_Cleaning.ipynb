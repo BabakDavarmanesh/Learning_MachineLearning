{
  "nbformat": 4,
  "nbformat_minor": 0,
  "metadata": {
    "colab": {
      "provenance": [],
      "authorship_tag": "ABX9TyOOuYq3uR8s8RkWgO/MjF2n",
      "include_colab_link": true
    },
    "kernelspec": {
      "name": "python3",
      "display_name": "Python 3"
    },
    "language_info": {
      "name": "python"
    }
  },
  "cells": [
    {
      "cell_type": "markdown",
      "metadata": {
        "id": "view-in-github",
        "colab_type": "text"
      },
      "source": [
        "<a href=\"https://colab.research.google.com/github/BabakDavarmanesh/Learning_MachineLearning/blob/main/Machine_Learning_Data_Cleaning.ipynb\" target=\"_parent\"><img src=\"https://colab.research.google.com/assets/colab-badge.svg\" alt=\"Open In Colab\"/></a>"
      ]
    },
    {
      "cell_type": "markdown",
      "source": [
        "# <font color='darkblue'>Data Cleaning</font>\n",
        "\n",
        "In most real-world scenarios, the data that data scientists work with is often raw, which means it may include duplicates, missing values, and irrelevant information. If this data is directly used for machine learning tasks, it can lead to poor accuracy or inaccurate predictions. Therefore, data cleaning—also referred to as data cleansing—is a crucial step that should be performed before any model development.\n",
        "\n",
        "In this notebook, we will explore some common data cleaning techniques that data scientists typically use to preprocess and prepare their data for analysis.\n",
        "\n",
        "## Objectives\n",
        "\n",
        "*   Use Log function to transform the data\n",
        "*   Handle the duplicates\n",
        "*   Handle the missing values\n",
        "*   Standardize and normalize the data\n",
        "*   Handle the outliers\n"
      ],
      "metadata": {
        "id": "et5xBPF0RlwB"
      }
    },
    {
      "cell_type": "markdown",
      "source": [
        "## **<font color='orange'>Import the required libraries</font>**\n"
      ],
      "metadata": {
        "id": "kfofSEntS3jS"
      }
    },
    {
      "cell_type": "code",
      "execution_count": 3,
      "metadata": {
        "colab": {
          "base_uri": "https://localhost:8080/"
        },
        "id": "ajguafNlNUZs",
        "outputId": "80d1ff7c-0dff-45d4-f1b4-f624b48f9717"
      },
      "outputs": [
        {
          "output_type": "stream",
          "name": "stdout",
          "text": [
            "Requirement already satisfied: pandas in /usr/local/lib/python3.11/dist-packages (2.2.2)\n",
            "Requirement already satisfied: numpy in /usr/local/lib/python3.11/dist-packages (2.0.2)\n",
            "Requirement already satisfied: seaborn in /usr/local/lib/python3.11/dist-packages (0.13.2)\n",
            "Requirement already satisfied: matplotlib in /usr/local/lib/python3.11/dist-packages (3.10.0)\n",
            "Requirement already satisfied: scikit-learn in /usr/local/lib/python3.11/dist-packages (1.6.1)\n",
            "Requirement already satisfied: scipy in /usr/local/lib/python3.11/dist-packages (1.14.1)\n",
            "Requirement already satisfied: python-dateutil>=2.8.2 in /usr/local/lib/python3.11/dist-packages (from pandas) (2.8.2)\n",
            "Requirement already satisfied: pytz>=2020.1 in /usr/local/lib/python3.11/dist-packages (from pandas) (2025.2)\n",
            "Requirement already satisfied: tzdata>=2022.7 in /usr/local/lib/python3.11/dist-packages (from pandas) (2025.2)\n",
            "Requirement already satisfied: contourpy>=1.0.1 in /usr/local/lib/python3.11/dist-packages (from matplotlib) (1.3.1)\n",
            "Requirement already satisfied: cycler>=0.10 in /usr/local/lib/python3.11/dist-packages (from matplotlib) (0.12.1)\n",
            "Requirement already satisfied: fonttools>=4.22.0 in /usr/local/lib/python3.11/dist-packages (from matplotlib) (4.56.0)\n",
            "Requirement already satisfied: kiwisolver>=1.3.1 in /usr/local/lib/python3.11/dist-packages (from matplotlib) (1.4.8)\n",
            "Requirement already satisfied: packaging>=20.0 in /usr/local/lib/python3.11/dist-packages (from matplotlib) (24.2)\n",
            "Requirement already satisfied: pillow>=8 in /usr/local/lib/python3.11/dist-packages (from matplotlib) (11.1.0)\n",
            "Requirement already satisfied: pyparsing>=2.3.1 in /usr/local/lib/python3.11/dist-packages (from matplotlib) (3.2.3)\n",
            "Requirement already satisfied: joblib>=1.2.0 in /usr/local/lib/python3.11/dist-packages (from scikit-learn) (1.4.2)\n",
            "Requirement already satisfied: threadpoolctl>=3.1.0 in /usr/local/lib/python3.11/dist-packages (from scikit-learn) (3.6.0)\n",
            "Requirement already satisfied: six>=1.5 in /usr/local/lib/python3.11/dist-packages (from python-dateutil>=2.8.2->pandas) (1.17.0)\n"
          ]
        }
      ],
      "source": [
        "!pip install pandas numpy seaborn matplotlib scikit-learn scipy"
      ]
    },
    {
      "cell_type": "code",
      "source": [
        "import pandas as pd\n",
        "import numpy as np\n",
        "\n",
        "import seaborn as sns\n",
        "import matplotlib.pylab as plt\n",
        "\n",
        "from sklearn.preprocessing import StandardScaler\n",
        "from sklearn.preprocessing import MinMaxScaler\n",
        "\n",
        "from scipy.stats import norm\n",
        "from scipy import stats"
      ],
      "metadata": {
        "id": "ADyxnX9sSYfx"
      },
      "execution_count": 4,
      "outputs": []
    },
    {
      "cell_type": "markdown",
      "source": [
        "In this tutorial, we will be using the Ames_Housing_Data.tsv file, which you can download from [Kaggle](https://www.kaggle.com/datasets/hamzajabbarkhan/ames-housingtsv)"
      ],
      "metadata": {
        "id": "IMdB1dvYlcY_"
      }
    },
    {
      "cell_type": "code",
      "source": [],
      "metadata": {
        "id": "0xMyqew4llDC"
      },
      "execution_count": null,
      "outputs": []
    }
  ]
}